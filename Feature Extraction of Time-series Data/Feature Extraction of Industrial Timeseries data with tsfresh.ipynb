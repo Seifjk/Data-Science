{
 "cells": [
  {
   "cell_type": "code",
   "execution_count": 1,
   "metadata": {},
   "outputs": [],
   "source": [
    "from tsfresh.examples.robot_execution_failures import download_robot_execution_failures, load_robot_execution_failures\n",
    "from tsfresh.feature_extraction import extract_features\n",
    "from tsfresh.feature_selection import select_features\n",
    "from tsfresh.utilities.dataframe_functions import impute\n",
    "from tsfresh.feature_extraction import ComprehensiveFCParameters, MinimalFCParameters, settings\n",
    "import pandas as pd\n",
    "from sklearn.model_selection import train_test_split"
   ]
  },
  {
   "cell_type": "code",
   "execution_count": 72,
   "metadata": {},
   "outputs": [],
   "source": [
    "df= pd.read_csv(r'E:\\backup\\idontknow.csv', nrows=50000)\n"
   ]
  },
  {
   "cell_type": "code",
   "execution_count": 73,
   "metadata": {},
   "outputs": [
    {
     "data": {
      "text/html": [
       "<div>\n",
       "<style scoped>\n",
       "    .dataframe tbody tr th:only-of-type {\n",
       "        vertical-align: middle;\n",
       "    }\n",
       "\n",
       "    .dataframe tbody tr th {\n",
       "        vertical-align: top;\n",
       "    }\n",
       "\n",
       "    .dataframe thead th {\n",
       "        text-align: right;\n",
       "    }\n",
       "</style>\n",
       "<table border=\"1\" class=\"dataframe\">\n",
       "  <thead>\n",
       "    <tr style=\"text-align: right;\">\n",
       "      <th></th>\n",
       "      <th>target</th>\n",
       "      <th>0</th>\n",
       "      <th>1</th>\n",
       "      <th>2</th>\n",
       "      <th>3</th>\n",
       "      <th>4</th>\n",
       "      <th>5</th>\n",
       "      <th>6</th>\n",
       "      <th>7</th>\n",
       "      <th>8</th>\n",
       "      <th>...</th>\n",
       "      <th>240</th>\n",
       "      <th>241</th>\n",
       "      <th>242</th>\n",
       "      <th>243</th>\n",
       "      <th>244</th>\n",
       "      <th>245</th>\n",
       "      <th>246</th>\n",
       "      <th>247</th>\n",
       "      <th>248</th>\n",
       "      <th>249</th>\n",
       "    </tr>\n",
       "  </thead>\n",
       "  <tbody>\n",
       "    <tr>\n",
       "      <th>0</th>\n",
       "      <td>0.0</td>\n",
       "      <td>312.500</td>\n",
       "      <td>312.153</td>\n",
       "      <td>312.037</td>\n",
       "      <td>312.037</td>\n",
       "      <td>311.806</td>\n",
       "      <td>311.690</td>\n",
       "      <td>311.690</td>\n",
       "      <td>311.227</td>\n",
       "      <td>311.227</td>\n",
       "      <td>...</td>\n",
       "      <td>NaN</td>\n",
       "      <td>NaN</td>\n",
       "      <td>NaN</td>\n",
       "      <td>NaN</td>\n",
       "      <td>NaN</td>\n",
       "      <td>NaN</td>\n",
       "      <td>NaN</td>\n",
       "      <td>NaN</td>\n",
       "      <td>NaN</td>\n",
       "      <td>NaN</td>\n",
       "    </tr>\n",
       "    <tr>\n",
       "      <th>1</th>\n",
       "      <td>0.0</td>\n",
       "      <td>312.500</td>\n",
       "      <td>311.690</td>\n",
       "      <td>311.690</td>\n",
       "      <td>311.574</td>\n",
       "      <td>311.343</td>\n",
       "      <td>311.227</td>\n",
       "      <td>311.111</td>\n",
       "      <td>310.880</td>\n",
       "      <td>310.764</td>\n",
       "      <td>...</td>\n",
       "      <td>NaN</td>\n",
       "      <td>NaN</td>\n",
       "      <td>NaN</td>\n",
       "      <td>NaN</td>\n",
       "      <td>NaN</td>\n",
       "      <td>NaN</td>\n",
       "      <td>NaN</td>\n",
       "      <td>NaN</td>\n",
       "      <td>NaN</td>\n",
       "      <td>NaN</td>\n",
       "    </tr>\n",
       "    <tr>\n",
       "      <th>2</th>\n",
       "      <td>0.0</td>\n",
       "      <td>309.722</td>\n",
       "      <td>309.259</td>\n",
       "      <td>309.259</td>\n",
       "      <td>309.028</td>\n",
       "      <td>308.796</td>\n",
       "      <td>308.796</td>\n",
       "      <td>308.681</td>\n",
       "      <td>308.449</td>\n",
       "      <td>308.333</td>\n",
       "      <td>...</td>\n",
       "      <td>277.199</td>\n",
       "      <td>278.704</td>\n",
       "      <td>278.125</td>\n",
       "      <td>278.009</td>\n",
       "      <td>279.514</td>\n",
       "      <td>307.986</td>\n",
       "      <td>NaN</td>\n",
       "      <td>NaN</td>\n",
       "      <td>NaN</td>\n",
       "      <td>NaN</td>\n",
       "    </tr>\n",
       "    <tr>\n",
       "      <th>3</th>\n",
       "      <td>0.0</td>\n",
       "      <td>308.449</td>\n",
       "      <td>308.218</td>\n",
       "      <td>307.986</td>\n",
       "      <td>307.755</td>\n",
       "      <td>307.523</td>\n",
       "      <td>307.523</td>\n",
       "      <td>307.292</td>\n",
       "      <td>307.292</td>\n",
       "      <td>307.060</td>\n",
       "      <td>...</td>\n",
       "      <td>NaN</td>\n",
       "      <td>NaN</td>\n",
       "      <td>NaN</td>\n",
       "      <td>NaN</td>\n",
       "      <td>NaN</td>\n",
       "      <td>NaN</td>\n",
       "      <td>NaN</td>\n",
       "      <td>NaN</td>\n",
       "      <td>NaN</td>\n",
       "      <td>NaN</td>\n",
       "    </tr>\n",
       "    <tr>\n",
       "      <th>4</th>\n",
       "      <td>0.0</td>\n",
       "      <td>310.764</td>\n",
       "      <td>310.764</td>\n",
       "      <td>310.648</td>\n",
       "      <td>310.417</td>\n",
       "      <td>310.301</td>\n",
       "      <td>310.185</td>\n",
       "      <td>309.954</td>\n",
       "      <td>309.838</td>\n",
       "      <td>309.722</td>\n",
       "      <td>...</td>\n",
       "      <td>285.417</td>\n",
       "      <td>NaN</td>\n",
       "      <td>NaN</td>\n",
       "      <td>NaN</td>\n",
       "      <td>NaN</td>\n",
       "      <td>NaN</td>\n",
       "      <td>NaN</td>\n",
       "      <td>NaN</td>\n",
       "      <td>NaN</td>\n",
       "      <td>NaN</td>\n",
       "    </tr>\n",
       "  </tbody>\n",
       "</table>\n",
       "<p>5 rows × 251 columns</p>\n",
       "</div>"
      ],
      "text/plain": [
       "   target        0        1        2        3        4        5        6  \\\n",
       "0     0.0  312.500  312.153  312.037  312.037  311.806  311.690  311.690   \n",
       "1     0.0  312.500  311.690  311.690  311.574  311.343  311.227  311.111   \n",
       "2     0.0  309.722  309.259  309.259  309.028  308.796  308.796  308.681   \n",
       "3     0.0  308.449  308.218  307.986  307.755  307.523  307.523  307.292   \n",
       "4     0.0  310.764  310.764  310.648  310.417  310.301  310.185  309.954   \n",
       "\n",
       "         7        8  ...      240      241      242      243      244  \\\n",
       "0  311.227  311.227  ...      NaN      NaN      NaN      NaN      NaN   \n",
       "1  310.880  310.764  ...      NaN      NaN      NaN      NaN      NaN   \n",
       "2  308.449  308.333  ...  277.199  278.704  278.125  278.009  279.514   \n",
       "3  307.292  307.060  ...      NaN      NaN      NaN      NaN      NaN   \n",
       "4  309.838  309.722  ...  285.417      NaN      NaN      NaN      NaN   \n",
       "\n",
       "       245  246  247  248  249  \n",
       "0      NaN  NaN  NaN  NaN  NaN  \n",
       "1      NaN  NaN  NaN  NaN  NaN  \n",
       "2  307.986  NaN  NaN  NaN  NaN  \n",
       "3      NaN  NaN  NaN  NaN  NaN  \n",
       "4      NaN  NaN  NaN  NaN  NaN  \n",
       "\n",
       "[5 rows x 251 columns]"
      ]
     },
     "execution_count": 73,
     "metadata": {},
     "output_type": "execute_result"
    }
   ],
   "source": [
    "df.head()"
   ]
  },
  {
   "cell_type": "code",
   "execution_count": 74,
   "metadata": {},
   "outputs": [],
   "source": [
    "df['id'] = 0"
   ]
  },
  {
   "cell_type": "code",
   "execution_count": 75,
   "metadata": {},
   "outputs": [
    {
     "name": "stderr",
     "output_type": "stream",
     "text": [
      "C:\\Users\\srfzx\\Anaconda3\\lib\\site-packages\\pandas\\core\\indexing.py:190: SettingWithCopyWarning: \n",
      "A value is trying to be set on a copy of a slice from a DataFrame\n",
      "\n",
      "See the caveats in the documentation: http://pandas.pydata.org/pandas-docs/stable/indexing.html#indexing-view-versus-copy\n",
      "  self._setitem_with_indexer(indexer, value)\n"
     ]
    }
   ],
   "source": [
    "k= 0\n",
    "for i in range(0,len(df)):\n",
    "    k = k+1\n",
    "    df.id.iloc[i]= k"
   ]
  },
  {
   "cell_type": "code",
   "execution_count": 76,
   "metadata": {},
   "outputs": [],
   "source": [
    "df = df.fillna(0)"
   ]
  },
  {
   "cell_type": "code",
   "execution_count": 77,
   "metadata": {},
   "outputs": [
    {
     "data": {
      "text/html": [
       "<div>\n",
       "<style scoped>\n",
       "    .dataframe tbody tr th:only-of-type {\n",
       "        vertical-align: middle;\n",
       "    }\n",
       "\n",
       "    .dataframe tbody tr th {\n",
       "        vertical-align: top;\n",
       "    }\n",
       "\n",
       "    .dataframe thead th {\n",
       "        text-align: right;\n",
       "    }\n",
       "</style>\n",
       "<table border=\"1\" class=\"dataframe\">\n",
       "  <thead>\n",
       "    <tr style=\"text-align: right;\">\n",
       "      <th></th>\n",
       "      <th>target</th>\n",
       "      <th>0</th>\n",
       "      <th>1</th>\n",
       "      <th>2</th>\n",
       "      <th>3</th>\n",
       "      <th>4</th>\n",
       "      <th>5</th>\n",
       "      <th>6</th>\n",
       "      <th>7</th>\n",
       "      <th>8</th>\n",
       "      <th>...</th>\n",
       "      <th>241</th>\n",
       "      <th>242</th>\n",
       "      <th>243</th>\n",
       "      <th>244</th>\n",
       "      <th>245</th>\n",
       "      <th>246</th>\n",
       "      <th>247</th>\n",
       "      <th>248</th>\n",
       "      <th>249</th>\n",
       "      <th>id</th>\n",
       "    </tr>\n",
       "  </thead>\n",
       "  <tbody>\n",
       "    <tr>\n",
       "      <th>0</th>\n",
       "      <td>0.0</td>\n",
       "      <td>312.500</td>\n",
       "      <td>312.153</td>\n",
       "      <td>312.037</td>\n",
       "      <td>312.037</td>\n",
       "      <td>311.806</td>\n",
       "      <td>311.690</td>\n",
       "      <td>311.690</td>\n",
       "      <td>311.227</td>\n",
       "      <td>311.227</td>\n",
       "      <td>...</td>\n",
       "      <td>0.000</td>\n",
       "      <td>0.000</td>\n",
       "      <td>0.000</td>\n",
       "      <td>0.000</td>\n",
       "      <td>0.000</td>\n",
       "      <td>0.0</td>\n",
       "      <td>0.0</td>\n",
       "      <td>0.0</td>\n",
       "      <td>0.0</td>\n",
       "      <td>1</td>\n",
       "    </tr>\n",
       "    <tr>\n",
       "      <th>1</th>\n",
       "      <td>0.0</td>\n",
       "      <td>312.500</td>\n",
       "      <td>311.690</td>\n",
       "      <td>311.690</td>\n",
       "      <td>311.574</td>\n",
       "      <td>311.343</td>\n",
       "      <td>311.227</td>\n",
       "      <td>311.111</td>\n",
       "      <td>310.880</td>\n",
       "      <td>310.764</td>\n",
       "      <td>...</td>\n",
       "      <td>0.000</td>\n",
       "      <td>0.000</td>\n",
       "      <td>0.000</td>\n",
       "      <td>0.000</td>\n",
       "      <td>0.000</td>\n",
       "      <td>0.0</td>\n",
       "      <td>0.0</td>\n",
       "      <td>0.0</td>\n",
       "      <td>0.0</td>\n",
       "      <td>2</td>\n",
       "    </tr>\n",
       "    <tr>\n",
       "      <th>2</th>\n",
       "      <td>0.0</td>\n",
       "      <td>309.722</td>\n",
       "      <td>309.259</td>\n",
       "      <td>309.259</td>\n",
       "      <td>309.028</td>\n",
       "      <td>308.796</td>\n",
       "      <td>308.796</td>\n",
       "      <td>308.681</td>\n",
       "      <td>308.449</td>\n",
       "      <td>308.333</td>\n",
       "      <td>...</td>\n",
       "      <td>278.704</td>\n",
       "      <td>278.125</td>\n",
       "      <td>278.009</td>\n",
       "      <td>279.514</td>\n",
       "      <td>307.986</td>\n",
       "      <td>0.0</td>\n",
       "      <td>0.0</td>\n",
       "      <td>0.0</td>\n",
       "      <td>0.0</td>\n",
       "      <td>3</td>\n",
       "    </tr>\n",
       "    <tr>\n",
       "      <th>3</th>\n",
       "      <td>0.0</td>\n",
       "      <td>308.449</td>\n",
       "      <td>308.218</td>\n",
       "      <td>307.986</td>\n",
       "      <td>307.755</td>\n",
       "      <td>307.523</td>\n",
       "      <td>307.523</td>\n",
       "      <td>307.292</td>\n",
       "      <td>307.292</td>\n",
       "      <td>307.060</td>\n",
       "      <td>...</td>\n",
       "      <td>0.000</td>\n",
       "      <td>0.000</td>\n",
       "      <td>0.000</td>\n",
       "      <td>0.000</td>\n",
       "      <td>0.000</td>\n",
       "      <td>0.0</td>\n",
       "      <td>0.0</td>\n",
       "      <td>0.0</td>\n",
       "      <td>0.0</td>\n",
       "      <td>4</td>\n",
       "    </tr>\n",
       "    <tr>\n",
       "      <th>4</th>\n",
       "      <td>0.0</td>\n",
       "      <td>310.764</td>\n",
       "      <td>310.764</td>\n",
       "      <td>310.648</td>\n",
       "      <td>310.417</td>\n",
       "      <td>310.301</td>\n",
       "      <td>310.185</td>\n",
       "      <td>309.954</td>\n",
       "      <td>309.838</td>\n",
       "      <td>309.722</td>\n",
       "      <td>...</td>\n",
       "      <td>0.000</td>\n",
       "      <td>0.000</td>\n",
       "      <td>0.000</td>\n",
       "      <td>0.000</td>\n",
       "      <td>0.000</td>\n",
       "      <td>0.0</td>\n",
       "      <td>0.0</td>\n",
       "      <td>0.0</td>\n",
       "      <td>0.0</td>\n",
       "      <td>5</td>\n",
       "    </tr>\n",
       "  </tbody>\n",
       "</table>\n",
       "<p>5 rows × 252 columns</p>\n",
       "</div>"
      ],
      "text/plain": [
       "   target        0        1        2        3        4        5        6  \\\n",
       "0     0.0  312.500  312.153  312.037  312.037  311.806  311.690  311.690   \n",
       "1     0.0  312.500  311.690  311.690  311.574  311.343  311.227  311.111   \n",
       "2     0.0  309.722  309.259  309.259  309.028  308.796  308.796  308.681   \n",
       "3     0.0  308.449  308.218  307.986  307.755  307.523  307.523  307.292   \n",
       "4     0.0  310.764  310.764  310.648  310.417  310.301  310.185  309.954   \n",
       "\n",
       "         7        8  ...      241      242      243      244      245  246  \\\n",
       "0  311.227  311.227  ...    0.000    0.000    0.000    0.000    0.000  0.0   \n",
       "1  310.880  310.764  ...    0.000    0.000    0.000    0.000    0.000  0.0   \n",
       "2  308.449  308.333  ...  278.704  278.125  278.009  279.514  307.986  0.0   \n",
       "3  307.292  307.060  ...    0.000    0.000    0.000    0.000    0.000  0.0   \n",
       "4  309.838  309.722  ...    0.000    0.000    0.000    0.000    0.000  0.0   \n",
       "\n",
       "   247  248  249  id  \n",
       "0  0.0  0.0  0.0   1  \n",
       "1  0.0  0.0  0.0   2  \n",
       "2  0.0  0.0  0.0   3  \n",
       "3  0.0  0.0  0.0   4  \n",
       "4  0.0  0.0  0.0   5  \n",
       "\n",
       "[5 rows x 252 columns]"
      ]
     },
     "execution_count": 77,
     "metadata": {},
     "output_type": "execute_result"
    }
   ],
   "source": [
    "df.head()"
   ]
  },
  {
   "cell_type": "code",
   "execution_count": 81,
   "metadata": {},
   "outputs": [],
   "source": [
    "y = df.target"
   ]
  },
  {
   "cell_type": "code",
   "execution_count": 82,
   "metadata": {},
   "outputs": [],
   "source": [
    "X = df.drop(['target'],axis=1)"
   ]
  },
  {
   "cell_type": "code",
   "execution_count": 83,
   "metadata": {},
   "outputs": [],
   "source": [
    "X_train, X_test, y_train, y_test = train_test_split(\n",
    "...     X, y, test_size=0.33, random_state=0)"
   ]
  },
  {
   "cell_type": "code",
   "execution_count": 86,
   "metadata": {},
   "outputs": [
    {
     "data": {
      "text/plain": [
       "(779, 251)"
      ]
     },
     "execution_count": 86,
     "metadata": {},
     "output_type": "execute_result"
    }
   ],
   "source": [
    "X_test.shape"
   ]
  },
  {
   "cell_type": "code",
   "execution_count": 87,
   "metadata": {},
   "outputs": [
    {
     "name": "stderr",
     "output_type": "stream",
     "text": [
      "Feature Extraction: 100%|██████████████████████| 10/10 [01:08<00:00,  5.91s/it]\n"
     ]
    }
   ],
   "source": [
    "X_train = extract_features(X_train, column_id='id', default_fc_parameters=MinimalFCParameters(),\n",
    "                           impute_function=impute)"
   ]
  },
  {
   "cell_type": "code",
   "execution_count": null,
   "metadata": {},
   "outputs": [],
   "source": []
  },
  {
   "cell_type": "code",
   "execution_count": 88,
   "metadata": {},
   "outputs": [
    {
     "name": "stderr",
     "output_type": "stream",
     "text": [
      "Feature Extraction: 100%|██████████████████████| 10/10 [00:35<00:00,  2.91s/it]\n"
     ]
    }
   ],
   "source": [
    "X_test = extract_features(X_test, column_id='id', default_fc_parameters=MinimalFCParameters(),\n",
    "                           impute_function=impute)"
   ]
  },
  {
   "cell_type": "code",
   "execution_count": 89,
   "metadata": {},
   "outputs": [],
   "source": [
    "from sklearn.tree import DecisionTreeClassifier"
   ]
  },
  {
   "cell_type": "code",
   "execution_count": 104,
   "metadata": {},
   "outputs": [],
   "source": [
    "clf = DecisionTreeClassifier(criterion='entropy', random_state=0)"
   ]
  },
  {
   "cell_type": "code",
   "execution_count": 91,
   "metadata": {},
   "outputs": [],
   "source": [
    "model = clf.fit(X_train,y_train)"
   ]
  },
  {
   "cell_type": "code",
   "execution_count": 98,
   "metadata": {},
   "outputs": [
    {
     "data": {
      "text/plain": [
       "(1581, 2000)"
      ]
     },
     "execution_count": 98,
     "metadata": {},
     "output_type": "execute_result"
    }
   ],
   "source": [
    "X_train.shape"
   ]
  },
  {
   "cell_type": "code",
   "execution_count": 99,
   "metadata": {},
   "outputs": [
    {
     "data": {
      "text/html": [
       "<div>\n",
       "<style scoped>\n",
       "    .dataframe tbody tr th:only-of-type {\n",
       "        vertical-align: middle;\n",
       "    }\n",
       "\n",
       "    .dataframe tbody tr th {\n",
       "        vertical-align: top;\n",
       "    }\n",
       "\n",
       "    .dataframe thead th {\n",
       "        text-align: right;\n",
       "    }\n",
       "</style>\n",
       "<table border=\"1\" class=\"dataframe\">\n",
       "  <thead>\n",
       "    <tr style=\"text-align: right;\">\n",
       "      <th>variable</th>\n",
       "      <th>0__length</th>\n",
       "      <th>0__maximum</th>\n",
       "      <th>0__mean</th>\n",
       "      <th>0__median</th>\n",
       "      <th>0__minimum</th>\n",
       "      <th>0__standard_deviation</th>\n",
       "      <th>0__sum_values</th>\n",
       "      <th>0__variance</th>\n",
       "      <th>100__length</th>\n",
       "      <th>100__maximum</th>\n",
       "      <th>...</th>\n",
       "      <th>99__sum_values</th>\n",
       "      <th>99__variance</th>\n",
       "      <th>9__length</th>\n",
       "      <th>9__maximum</th>\n",
       "      <th>9__mean</th>\n",
       "      <th>9__median</th>\n",
       "      <th>9__minimum</th>\n",
       "      <th>9__standard_deviation</th>\n",
       "      <th>9__sum_values</th>\n",
       "      <th>9__variance</th>\n",
       "    </tr>\n",
       "    <tr>\n",
       "      <th>id</th>\n",
       "      <th></th>\n",
       "      <th></th>\n",
       "      <th></th>\n",
       "      <th></th>\n",
       "      <th></th>\n",
       "      <th></th>\n",
       "      <th></th>\n",
       "      <th></th>\n",
       "      <th></th>\n",
       "      <th></th>\n",
       "      <th></th>\n",
       "      <th></th>\n",
       "      <th></th>\n",
       "      <th></th>\n",
       "      <th></th>\n",
       "      <th></th>\n",
       "      <th></th>\n",
       "      <th></th>\n",
       "      <th></th>\n",
       "      <th></th>\n",
       "      <th></th>\n",
       "    </tr>\n",
       "  </thead>\n",
       "  <tbody>\n",
       "    <tr>\n",
       "      <th>1</th>\n",
       "      <td>1.0</td>\n",
       "      <td>312.500</td>\n",
       "      <td>312.500</td>\n",
       "      <td>312.500</td>\n",
       "      <td>312.500</td>\n",
       "      <td>0.0</td>\n",
       "      <td>312.500</td>\n",
       "      <td>0.0</td>\n",
       "      <td>1.0</td>\n",
       "      <td>299.653</td>\n",
       "      <td>...</td>\n",
       "      <td>299.769</td>\n",
       "      <td>0.0</td>\n",
       "      <td>1.0</td>\n",
       "      <td>311.111</td>\n",
       "      <td>311.111</td>\n",
       "      <td>311.111</td>\n",
       "      <td>311.111</td>\n",
       "      <td>0.0</td>\n",
       "      <td>311.111</td>\n",
       "      <td>0.0</td>\n",
       "    </tr>\n",
       "    <tr>\n",
       "      <th>3</th>\n",
       "      <td>1.0</td>\n",
       "      <td>309.722</td>\n",
       "      <td>309.722</td>\n",
       "      <td>309.722</td>\n",
       "      <td>309.722</td>\n",
       "      <td>0.0</td>\n",
       "      <td>309.722</td>\n",
       "      <td>0.0</td>\n",
       "      <td>1.0</td>\n",
       "      <td>296.296</td>\n",
       "      <td>...</td>\n",
       "      <td>296.412</td>\n",
       "      <td>0.0</td>\n",
       "      <td>1.0</td>\n",
       "      <td>307.986</td>\n",
       "      <td>307.986</td>\n",
       "      <td>307.986</td>\n",
       "      <td>307.986</td>\n",
       "      <td>0.0</td>\n",
       "      <td>307.986</td>\n",
       "      <td>0.0</td>\n",
       "    </tr>\n",
       "    <tr>\n",
       "      <th>4</th>\n",
       "      <td>1.0</td>\n",
       "      <td>308.449</td>\n",
       "      <td>308.449</td>\n",
       "      <td>308.449</td>\n",
       "      <td>308.449</td>\n",
       "      <td>0.0</td>\n",
       "      <td>308.449</td>\n",
       "      <td>0.0</td>\n",
       "      <td>1.0</td>\n",
       "      <td>296.759</td>\n",
       "      <td>...</td>\n",
       "      <td>296.991</td>\n",
       "      <td>0.0</td>\n",
       "      <td>1.0</td>\n",
       "      <td>307.060</td>\n",
       "      <td>307.060</td>\n",
       "      <td>307.060</td>\n",
       "      <td>307.060</td>\n",
       "      <td>0.0</td>\n",
       "      <td>307.060</td>\n",
       "      <td>0.0</td>\n",
       "    </tr>\n",
       "    <tr>\n",
       "      <th>5</th>\n",
       "      <td>1.0</td>\n",
       "      <td>310.764</td>\n",
       "      <td>310.764</td>\n",
       "      <td>310.764</td>\n",
       "      <td>310.764</td>\n",
       "      <td>0.0</td>\n",
       "      <td>310.764</td>\n",
       "      <td>0.0</td>\n",
       "      <td>1.0</td>\n",
       "      <td>297.801</td>\n",
       "      <td>...</td>\n",
       "      <td>297.801</td>\n",
       "      <td>0.0</td>\n",
       "      <td>1.0</td>\n",
       "      <td>309.491</td>\n",
       "      <td>309.491</td>\n",
       "      <td>309.491</td>\n",
       "      <td>309.491</td>\n",
       "      <td>0.0</td>\n",
       "      <td>309.491</td>\n",
       "      <td>0.0</td>\n",
       "    </tr>\n",
       "    <tr>\n",
       "      <th>8</th>\n",
       "      <td>1.0</td>\n",
       "      <td>312.616</td>\n",
       "      <td>312.616</td>\n",
       "      <td>312.616</td>\n",
       "      <td>312.616</td>\n",
       "      <td>0.0</td>\n",
       "      <td>312.616</td>\n",
       "      <td>0.0</td>\n",
       "      <td>1.0</td>\n",
       "      <td>298.958</td>\n",
       "      <td>...</td>\n",
       "      <td>299.190</td>\n",
       "      <td>0.0</td>\n",
       "      <td>1.0</td>\n",
       "      <td>311.227</td>\n",
       "      <td>311.227</td>\n",
       "      <td>311.227</td>\n",
       "      <td>311.227</td>\n",
       "      <td>0.0</td>\n",
       "      <td>311.227</td>\n",
       "      <td>0.0</td>\n",
       "    </tr>\n",
       "  </tbody>\n",
       "</table>\n",
       "<p>5 rows × 2000 columns</p>\n",
       "</div>"
      ],
      "text/plain": [
       "variable  0__length  0__maximum  0__mean  0__median  0__minimum  \\\n",
       "id                                                                \n",
       "1               1.0     312.500  312.500    312.500     312.500   \n",
       "3               1.0     309.722  309.722    309.722     309.722   \n",
       "4               1.0     308.449  308.449    308.449     308.449   \n",
       "5               1.0     310.764  310.764    310.764     310.764   \n",
       "8               1.0     312.616  312.616    312.616     312.616   \n",
       "\n",
       "variable  0__standard_deviation  0__sum_values  0__variance  100__length  \\\n",
       "id                                                                         \n",
       "1                           0.0        312.500          0.0          1.0   \n",
       "3                           0.0        309.722          0.0          1.0   \n",
       "4                           0.0        308.449          0.0          1.0   \n",
       "5                           0.0        310.764          0.0          1.0   \n",
       "8                           0.0        312.616          0.0          1.0   \n",
       "\n",
       "variable  100__maximum  ...  99__sum_values  99__variance  9__length  \\\n",
       "id                      ...                                            \n",
       "1              299.653  ...         299.769           0.0        1.0   \n",
       "3              296.296  ...         296.412           0.0        1.0   \n",
       "4              296.759  ...         296.991           0.0        1.0   \n",
       "5              297.801  ...         297.801           0.0        1.0   \n",
       "8              298.958  ...         299.190           0.0        1.0   \n",
       "\n",
       "variable  9__maximum  9__mean  9__median  9__minimum  9__standard_deviation  \\\n",
       "id                                                                            \n",
       "1            311.111  311.111    311.111     311.111                    0.0   \n",
       "3            307.986  307.986    307.986     307.986                    0.0   \n",
       "4            307.060  307.060    307.060     307.060                    0.0   \n",
       "5            309.491  309.491    309.491     309.491                    0.0   \n",
       "8            311.227  311.227    311.227     311.227                    0.0   \n",
       "\n",
       "variable  9__sum_values  9__variance  \n",
       "id                                    \n",
       "1               311.111          0.0  \n",
       "3               307.986          0.0  \n",
       "4               307.060          0.0  \n",
       "5               309.491          0.0  \n",
       "8               311.227          0.0  \n",
       "\n",
       "[5 rows x 2000 columns]"
      ]
     },
     "execution_count": 99,
     "metadata": {},
     "output_type": "execute_result"
    }
   ],
   "source": [
    "X_train.head()"
   ]
  },
  {
   "cell_type": "code",
   "execution_count": 100,
   "metadata": {},
   "outputs": [],
   "source": [
    "y_train.index = X_train.index"
   ]
  },
  {
   "cell_type": "code",
   "execution_count": 101,
   "metadata": {},
   "outputs": [],
   "source": [
    "predict = model.predict(X_test)"
   ]
  },
  {
   "cell_type": "code",
   "execution_count": 102,
   "metadata": {},
   "outputs": [],
   "source": [
    "from sklearn.metrics import classification_report"
   ]
  },
  {
   "cell_type": "code",
   "execution_count": 111,
   "metadata": {},
   "outputs": [
    {
     "ename": "ValueError",
     "evalue": "Index of X and y must be identical if provided",
     "output_type": "error",
     "traceback": [
      "\u001b[1;31m---------------------------------------------------------------------------\u001b[0m",
      "\u001b[1;31mValueError\u001b[0m                                Traceback (most recent call last)",
      "\u001b[1;32m<ipython-input-111-4c608d514215>\u001b[0m in \u001b[0;36m<module>\u001b[1;34m\u001b[0m\n\u001b[1;32m----> 1\u001b[1;33m \u001b[0mX_train_filtered\u001b[0m \u001b[1;33m=\u001b[0m \u001b[0mselect_features\u001b[0m\u001b[1;33m(\u001b[0m\u001b[0mX_test\u001b[0m\u001b[1;33m,\u001b[0m \u001b[0my_test\u001b[0m\u001b[1;33m,\u001b[0m \u001b[0mfdr_level\u001b[0m\u001b[1;33m=\u001b[0m\u001b[1;36m0.01\u001b[0m\u001b[1;33m)\u001b[0m\u001b[1;33m\u001b[0m\u001b[1;33m\u001b[0m\u001b[0m\n\u001b[0m\u001b[0;32m      2\u001b[0m \u001b[0mX_train_filtered\u001b[0m\u001b[1;33m.\u001b[0m\u001b[0mtail\u001b[0m\u001b[1;33m(\u001b[0m\u001b[1;33m)\u001b[0m\u001b[1;33m\u001b[0m\u001b[1;33m\u001b[0m\u001b[0m\n",
      "\u001b[1;32m~\\Anaconda3\\lib\\site-packages\\tsfresh\\feature_selection\\selection.py\u001b[0m in \u001b[0;36mselect_features\u001b[1;34m(X, y, test_for_binary_target_binary_feature, test_for_binary_target_real_feature, test_for_real_target_binary_feature, test_for_real_target_real_feature, fdr_level, hypotheses_independent, n_jobs, chunksize, ml_task)\u001b[0m\n\u001b[0;32m    138\u001b[0m \u001b[1;33m\u001b[0m\u001b[0m\n\u001b[0;32m    139\u001b[0m     \u001b[1;32mif\u001b[0m \u001b[0misinstance\u001b[0m\u001b[1;33m(\u001b[0m\u001b[0my\u001b[0m\u001b[1;33m,\u001b[0m \u001b[0mpd\u001b[0m\u001b[1;33m.\u001b[0m\u001b[0mSeries\u001b[0m\u001b[1;33m)\u001b[0m \u001b[1;32mand\u001b[0m \u001b[0mset\u001b[0m\u001b[1;33m(\u001b[0m\u001b[0mX\u001b[0m\u001b[1;33m.\u001b[0m\u001b[0mindex\u001b[0m\u001b[1;33m)\u001b[0m \u001b[1;33m!=\u001b[0m \u001b[0mset\u001b[0m\u001b[1;33m(\u001b[0m\u001b[0my\u001b[0m\u001b[1;33m.\u001b[0m\u001b[0mindex\u001b[0m\u001b[1;33m)\u001b[0m\u001b[1;33m:\u001b[0m\u001b[1;33m\u001b[0m\u001b[1;33m\u001b[0m\u001b[0m\n\u001b[1;32m--> 140\u001b[1;33m         \u001b[1;32mraise\u001b[0m \u001b[0mValueError\u001b[0m\u001b[1;33m(\u001b[0m\u001b[1;34m\"Index of X and y must be identical if provided\"\u001b[0m\u001b[1;33m)\u001b[0m\u001b[1;33m\u001b[0m\u001b[1;33m\u001b[0m\u001b[0m\n\u001b[0m\u001b[0;32m    141\u001b[0m \u001b[1;33m\u001b[0m\u001b[0m\n\u001b[0;32m    142\u001b[0m     \u001b[1;32mif\u001b[0m \u001b[0misinstance\u001b[0m\u001b[1;33m(\u001b[0m\u001b[0my\u001b[0m\u001b[1;33m,\u001b[0m \u001b[0mnp\u001b[0m\u001b[1;33m.\u001b[0m\u001b[0mndarray\u001b[0m\u001b[1;33m)\u001b[0m\u001b[1;33m:\u001b[0m\u001b[1;33m\u001b[0m\u001b[1;33m\u001b[0m\u001b[0m\n",
      "\u001b[1;31mValueError\u001b[0m: Index of X and y must be identical if provided"
     ]
    }
   ],
   "source": [
    "X_train_filtered = select_features(X_test, y_test, fdr_level=0.01)\n",
    "X_train_filtered.tail()"
   ]
  },
  {
   "cell_type": "markdown",
   "metadata": {},
   "source": [
    "## RESULTS"
   ]
  },
  {
   "cell_type": "code",
   "execution_count": 113,
   "metadata": {
    "scrolled": true
   },
   "outputs": [
    {
     "name": "stdout",
     "output_type": "stream",
     "text": [
      "              precision    recall  f1-score   support\n",
      "\n",
      "         0.0       0.98      0.97      0.97       762\n",
      "         1.0       0.00      0.00      0.00        17\n",
      "\n",
      "    accuracy                           0.94       779\n",
      "   macro avg       0.49      0.48      0.49       779\n",
      "weighted avg       0.96      0.94      0.95       779\n",
      "\n"
     ]
    }
   ],
   "source": [
    "print(classification_report(y_test,predict))"
   ]
  },
  {
   "cell_type": "code",
   "execution_count": 29,
   "metadata": {},
   "outputs": [],
   "source": [
    "from sklearn.metrics import classification_report\n",
    "#print(classification_report(y_val, predict2))\n",
    "from sklearn.metrics import classification_report \n",
    "#print(classification_report(y_test, predict))\n",
    "report = classification_report(y_test, predict, output_dict=True)\n",
    "df = pd.DataFrame(report).transpose()\n",
    "df.to_latex('mytable.tex')"
   ]
  },
  {
   "cell_type": "code",
   "execution_count": 31,
   "metadata": {},
   "outputs": [],
   "source": [
    "from sklearn.metrics import confusion_matrix"
   ]
  },
  {
   "cell_type": "code",
   "execution_count": 36,
   "metadata": {},
   "outputs": [],
   "source": [
    "import pandas as pd\n",
    "import numpy as np\n",
    "import pickle\n",
    "import matplotlib.pyplot as plt\n",
    "from scipy import stats\n",
    "import tensorflow as tf\n",
    "import seaborn as sns\n",
    "from pylab import rcParams\n",
    "from sklearn.model_selection import train_test_split\n",
    "from keras.models import Model, load_model\n",
    "from keras.layers import Input, Dense\n",
    "from keras.callbacks import ModelCheckpoint, TensorBoard\n",
    "from keras import regularizers\n",
    "\n",
    "%matplotlib inline\n",
    "\n",
    "sns.set(style='whitegrid', palette='muted', font_scale=1.5)\n",
    "\n",
    "rcParams['figure.figsize'] = 14, 8\n",
    "\n",
    "RANDOM_SEED = 42\n",
    "LABELS = [\"Not Defect \",\"Defect\"]"
   ]
  },
  {
   "cell_type": "code",
   "execution_count": 37,
   "metadata": {},
   "outputs": [
    {
     "data": {
      "image/png": "[encoded data removed]",
      "text/plain": [
       "<Figure size 864x864 with 2 Axes>"
      ]
     },
     "metadata": {},
     "output_type": "display_data"
    }
   ],
   "source": [
    "#y_pred = [1 if e > threshold else 0 for e in error_df.reconstruction_error.values]\n",
    "conf_matrix = confusion_matrix(y_test, predict)\n",
    "\n",
    "plt.figure(figsize=(12, 12))\n",
    "sns.heatmap(conf_matrix, xticklabels=LABELS, yticklabels=LABELS, annot=True, fmt=\"d\");\n",
    "plt.title(\"Confusion matrix\")\n",
    "plt.ylabel('True class')\n",
    "plt.xlabel('Predicted class')\n",
    "plt.show()"
   ]
  },
  {
   "cell_type": "code",
   "execution_count": null,
   "metadata": {},
   "outputs": [],
   "source": []
  }
 ],
 "metadata": {
  "kernelspec": {
   "display_name": "Python 3",
   "language": "python",
   "name": "python3"
  },
  "language_info": {
   "codemirror_mode": {
    "name": "ipython",
    "version": 3
   },
   "file_extension": ".py",
   "mimetype": "text/x-python",
   "name": "python",
   "nbconvert_exporter": "python",
   "pygments_lexer": "ipython3",
   "version": "3.7.3"
  }
 },
 "nbformat": 4,
 "nbformat_minor": 2
}
