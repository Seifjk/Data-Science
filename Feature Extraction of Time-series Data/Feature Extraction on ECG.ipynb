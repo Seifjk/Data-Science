{
 "cells": [
  {
   "cell_type": "markdown",
   "metadata": {},
   "source": [
    "## Params"
   ]
  },
  {
   "cell_type": "code",
   "execution_count": 3,
   "metadata": {},
   "outputs": [],
   "source": [
    "import pandas as pd\n",
    "import numpy as np\n",
    "from sklearn import decomposition, datasets\n",
    "from sklearn.preprocessing import StandardScaler"
   ]
  },
  {
   "cell_type": "markdown",
   "metadata": {},
   "source": [
    "## Load Dataset"
   ]
  },
  {
   "cell_type": "code",
   "execution_count": 4,
   "metadata": {},
   "outputs": [],
   "source": [
    "df_train = pd.read_csv(r'C:\\Users\\srfzx\\Downloads\\ECG5000\\ECG50002_TRAIN.csv', nrows=50000)\n",
    "df_test = pd.read_csv(r'C:\\Users\\srfzx\\Downloads\\ECG5000\\ECG5000_TEST.csv', nrows=50000)\n",
    "y_train =df_train.target\n",
    "y_test = df_test.target"
   ]
  },
  {
   "cell_type": "code",
   "execution_count": 5,
   "metadata": {},
   "outputs": [
    {
     "data": {
      "text/plain": [
       "(500, 142)"
      ]
     },
     "execution_count": 5,
     "metadata": {},
     "output_type": "execute_result"
    }
   ],
   "source": [
    "df_train.shape"
   ]
  },
  {
   "cell_type": "markdown",
   "metadata": {},
   "source": [
    "## Apply Standard Scaler"
   ]
  },
  {
   "cell_type": "code",
   "execution_count": 7,
   "metadata": {},
   "outputs": [],
   "source": [
    "# Create a scaler object\n",
    "sc = StandardScaler()\n",
    "\n",
    "# Fit the scaler to the features and transform\n",
    "X_std = sc.fit_transform(df_train)"
   ]
  },
  {
   "cell_type": "code",
   "execution_count": 10,
   "metadata": {},
   "outputs": [
    {
     "data": {
      "text/plain": [
       "array([[-1.72859016,  0.04088813, -0.90129978, ...,  0.78561271,\n",
       "         0.69493312, -0.6968578 ],\n",
       "       [-1.72166195, -0.82673686, -1.72795361, ...,  0.88554359,\n",
       "        -0.43898321, -0.6968578 ],\n",
       "       [-1.71473373, -0.35815129, -0.73609171, ...,  0.77478348,\n",
       "         0.26699084, -0.6968578 ],\n",
       "       ...,\n",
       "       [ 1.71473373,  0.12038415,  0.45198608, ...,  1.04635373,\n",
       "         1.57449471,  3.29278611],\n",
       "       [ 1.72166195,  0.39249453,  0.32082123, ...,  0.3154242 ,\n",
       "         0.50378478,  4.62266741],\n",
       "       [ 1.72859016, -0.85552672, -0.81347553, ...,  0.31076695,\n",
       "         0.47517907,  4.62266741]])"
      ]
     },
     "execution_count": 10,
     "metadata": {},
     "output_type": "execute_result"
    }
   ],
   "source": [
    "X_std"
   ]
  },
  {
   "cell_type": "markdown",
   "metadata": {},
   "source": [
    "##  Apply PCA"
   ]
  },
  {
   "cell_type": "code",
   "execution_count": 14,
   "metadata": {},
   "outputs": [],
   "source": [
    "# Create a pca object with the 2 components as a parameter\n",
    "pca = decomposition.PCA(n_components=4)\n",
    "\n",
    "# Fit the PCA and transform the data\n",
    "X_std_pca = pca.fit_transform(X_std)"
   ]
  },
  {
   "cell_type": "code",
   "execution_count": 15,
   "metadata": {},
   "outputs": [
    {
     "data": {
      "text/plain": [
       "(500, 4)"
      ]
     },
     "execution_count": 15,
     "metadata": {},
     "output_type": "execute_result"
    }
   ],
   "source": [
    "X_std_pca.shape"
   ]
  },
  {
   "cell_type": "code",
   "execution_count": 16,
   "metadata": {},
   "outputs": [
    {
     "data": {
      "text/plain": [
       "array([[ -6.56801101,  -3.92314835,  -0.4973834 ,   1.63785808],\n",
       "       [ -2.34242851,  -6.29406468,   5.73232852,  -4.32340169],\n",
       "       [ -6.00651401,  -3.96837763,  -0.39915185,  -2.99630952],\n",
       "       ...,\n",
       "       [  3.2568632 ,  17.84522578,   8.92389029,  -0.48718397],\n",
       "       [ -1.86082106, -11.6157764 , -10.06197861,   1.94423292],\n",
       "       [  3.95880405,  -1.28012239,  -7.26631454,  -2.52975979]])"
      ]
     },
     "execution_count": 16,
     "metadata": {},
     "output_type": "execute_result"
    }
   ],
   "source": [
    "X_std_pca"
   ]
  },
  {
   "cell_type": "code",
   "execution_count": null,
   "metadata": {},
   "outputs": [],
   "source": []
  }
 ],
 "metadata": {
  "kernelspec": {
   "display_name": "Python 3",
   "language": "python",
   "name": "python3"
  },
  "language_info": {
   "codemirror_mode": {
    "name": "ipython",
    "version": 3
   },
   "file_extension": ".py",
   "mimetype": "text/x-python",
   "name": "python",
   "nbconvert_exporter": "python",
   "pygments_lexer": "ipython3",
   "version": "3.7.3"
  }
 },
 "nbformat": 4,
 "nbformat_minor": 2
}
